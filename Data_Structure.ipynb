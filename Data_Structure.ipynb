{
  "nbformat": 4,
  "nbformat_minor": 0,
  "metadata": {
    "colab": {
      "provenance": []
    },
    "kernelspec": {
      "name": "python3",
      "display_name": "Python 3"
    },
    "language_info": {
      "name": "python"
    }
  },
  "cells": [
    {
      "cell_type": "markdown",
      "source": [
        "#Data Types and Structure :"
      ],
      "metadata": {
        "id": "SeKgrUZnvGKr"
      }
    },
    {
      "cell_type": "markdown",
      "source": [
        "1. What are data structures, and why are they important?\n",
        "-> Data Structures are built-in and user-defined formats used to store, organize, and manage data efficiently. Python provides several built-in data structures that make it easy to handle various kinds of data.\n",
        "\n",
        "Common Data Structure :\n",
        "\n",
        "a. List : Ordered, mutable, allows duplicate elements.\n",
        "\n",
        "b. Tuple : Ordered, immutable, allows duplicates.\n",
        "\n",
        "c. Set : Unordered, mutable, does not allow duplicates.\n",
        "\n",
        "d. Dictionary : Unordered key-value pairs.\n",
        "\n",
        "e. String : Immutable sequence of characters.\n",
        "\n",
        "Importance :\n",
        "\n",
        "a. Efficient Data Management.\n",
        "\n",
        "b. Simplifies Complex Problems.\n",
        "\n",
        "c. Improves Performance.\n",
        "\n",
        "d. Foundation for Algorithms.\n",
        "\n",
        "e. Readable and Maintainable Code.\n",
        "\n",
        "\n",
        "2. Explain the difference between mutable and immutable data types with examples.\n",
        "-> Mutable Data Types :\n",
        "These can be changed after creation. You can modify, add, or delete elements without changing the object's identity.\n",
        "\n",
        "Examples:\n",
        "\n",
        "List\n",
        "\n",
        "Dictionary\n",
        "\n",
        "Set\n",
        "\n",
        "-> Immutable Data Types :\n",
        "These cannot be changed after creation. Any operation that modifies the value creates a new object.\n",
        "\n",
        "Examples:\n",
        "\n",
        "String\n",
        "\n",
        "Tuple\n",
        "\n",
        "Float\n",
        "\n",
        "Boolean\n",
        "\n",
        "3. What are the main differences between lists and tuples in Python?\n",
        "->  Lists :\n",
        "\n",
        "a. Mutable - You can change, add, or remove elements.\n",
        "\n",
        "b. Defined using square brackets - Example: [1, 2, 3].\n",
        "\n",
        "c. Slower performance - Slightly slower than tuples due to flexibility.\n",
        "\n",
        "d. More memory usage - Lists require more memory.\n",
        "\n",
        "e. More methods available - e.g., append(), remove(), sort(), reverse().\n",
        "\n",
        "f. Suitable for dynamic data - Ideal when the data might change.\n",
        "\n",
        "g. Can be nested and modified deeply - Including elements inside the list.\n",
        "\n",
        "-> Tuples :\n",
        "\n",
        "Immutable - You cannot change or modify the content after creation.\n",
        "\n",
        "Defined using parentheses - Example: (1, 2, 3).\n",
        "\n",
        "Faster performance - Optimized for fixed data storage.\n",
        "\n",
        "Less memory usage - More memory-efficient than lists.\n",
        "\n",
        "Fewer methods - Only a few like count() and index().\n",
        "\n",
        "Suitable for fixed data - Good for storing constant values.\n",
        "\n",
        "Hashable - Can be used as keys in dictionaries (if they contain only immutable elements).\n",
        "\n",
        "4. Describe how dictionaries store data.\n",
        "-> A dictionary stores data in the form of key-value pairs, using a hash table internally for fast access.\n",
        "\n",
        "my_dict = {'name': 'Alice', 'age': 25, 'city': 'New York'}\n",
        "\n",
        "5. Why might you use a set instead of a list in Python?\n",
        "-> we might use a set instead of a list in Python when:\n",
        "\n",
        "a. We Need Unique Elements :-\n",
        "Sets automatically remove duplicates, while lists allow them.\n",
        "\n",
        "b. We Want Fast Membership Tests :-\n",
        "Checking if an item exists in a set is faster than in a list (average O(1) vs O(n)).\n",
        "\n",
        "c.  We're Performing Set Operations :-\n",
        "Sets support powerful mathematical operations like union, intersection, and difference.\n",
        "\n",
        "d. We Don't Need Order :-\n",
        "(i) Sets are unordered collections, unlike lists which maintain order.\n",
        "\n",
        "(ii) Use sets when order doesn't matter.\n",
        "\n",
        "6.  What is a string in Python, and how is it different from a list?\n",
        "-> A string in Python is an immutable sequence of characters, used to represent text.\n",
        "\n",
        "| Feature          | **String**                                     | **List**                                   |\n",
        "| ---------------- | ---------------------------------------------- | ------------------------------------------ |\n",
        "| **Data Type**    | Sequence of **characters**                     | Sequence of **elements** (any type)        |\n",
        "| **Mutability**   | Immutable (cannot be changed)                | Mutable (can be changed)                 |\n",
        "| **Element Type** | Always characters (e.g., `'H'`)                | Can include any type (int, str, etc.)      |\n",
        "| **Syntax**       | `\"Hello\"` or `'Hello'`                         | `[1, \"hello\", 3.5]`                        |\n",
        "| **Methods**      | String-specific (e.g., `upper()`, `replace()`) | List-specific (e.g., `append()`, `sort()`) |\n",
        "| **Use Case**     | Used for **text** and character data           | Used for **collections of items**          |\n",
        "\n",
        "\n",
        "7. How do tuples ensure data integrity in Python?\n",
        "-> Tuples help ensure data integrity in Python by being immutable—once a tuple is created, its contents cannot be changed. This behavior provides several key benefits:\n",
        "\n",
        "a. Prevents Accidental Modification :-\n",
        "Since tuples cannot be altered, you can't accidentally change their values in your code.\n",
        "\n",
        "b. Safe to Use as Keys in Dictionaries or Elements in Sets :-\n",
        "Tuples can be hashed (if they contain only immutable elements), making them reliable for use in:\n",
        "\n",
        "Dictionary keys\n",
        "\n",
        "Set elements\n",
        "\n",
        "c. Ideal for Fixed Data :-\n",
        "Tuples are perfect for data that should remain constant throughout the program, such as configuration settings or database records.\n",
        "\n",
        "d. Encourages Predictable Behavior :-\n",
        "Because the data in a tuple doesn't change, its behavior is more predictable, reducing bugs and improving stability in your programs.\n",
        "\n",
        "8. What is a hash table, and how does it relate to dictionaries in Python?\n",
        "-> A hash table is a data structure that stores key-value pairs and allows fast access to values using their keys. It works by using a hash function to convert each key into an index (a number) that determines where the value will be stored in memory.\n",
        "\n",
        "How It Works:\n",
        "\n",
        "Hashing: A key is passed through a hash function, which generates a unique hash code (a number).\n",
        "\n",
        "Indexing: This hash code is mapped to a specific index in an internal array.\n",
        "\n",
        "Storing: The key-value pair is stored at that index.\n",
        "\n",
        "Accessing: When you look up a key, Python re-hashes it and jumps directly to the correct index to fetch the value.\n",
        "\n",
        "How Does It Relate to Python Dictionaries?\n",
        "\n",
        "In Python, a dictionary (dict) is implemented using a hash table.\n",
        "\n",
        "9.  Can lists contain different data types in Python?\n",
        "-> Yes, lists can contain different data types in Python.\n",
        "Python lists are heterogeneous, meaning they can store elements of multiple data types in the same list.\n",
        "\n",
        "10. Explain why strings are immutable in Python?\n",
        "-> In Python, strings are immutable, meaning once a string is created, it cannot be changed. This design choice is intentional and provides several key benefits:\n",
        "\n",
        "a. Memory Efficiency :\n",
        "\n",
        ". Python stores frequently used strings in a string pool (interning) to save memory.\n",
        "\n",
        ". If strings were mutable, changing one would affect all references to it, breaking consistency.\n",
        "\n",
        "b. Security and Data Integrity :\n",
        "Because strings cannot be changed, they are safe to use in places where data must remain constant, such as:\n",
        "\n",
        ". Dictionary keys\n",
        "\n",
        ". Set elements\n",
        "\n",
        "c. Thread-Safety :\n",
        "Immutable objects are inherently thread-safe, meaning they can be shared between threads without risk of data being changed unexpectedly.\n",
        "\n",
        "d. Predictable Behavior :\n",
        "Since the value of a string doesn't change, functions that use strings behave consistently, making debugging easier.\n",
        "\n",
        "e. Implementation Simplicity :\n",
        "Immutability makes string operations like hashing, copying, and caching faster and simpler under the hood.\n",
        "\n",
        "11. What advantages do dictionaries offer over lists for certain tasks?\n",
        "-> Dictionaries (dict) offer several key advantages over lists (list) for specific tasks, especially when key-based access and data organization are important.\n",
        "\n",
        "a. Fast Lookup by Key :\n",
        "\n",
        ". Dictionaries provide O(1) average-time complexity for accessing values by key.\n",
        "\n",
        ". Lists require a linear search (O(n)) when searching for a specific value.\n",
        "\n",
        "b. More Descriptive Data Organization :\n",
        "\n",
        ". Dictionaries store data as key-value pairs, making the code more readable and meaningful.\n",
        "\n",
        "c. Avoiding Index Errors :\n",
        "\n",
        ". With dictionaries, you use keys, so you don't worry about the position or order of elements.\n",
        "\n",
        ". Lists require remembering indexes, which can lead to errors.\n",
        "\n",
        "d. Flexible Data Access :\n",
        "\n",
        ". We can easily add, remove, or modify values using keys in a dictionary.\n",
        "\n",
        ". In a list, changing structure often means shifting elements or tracking positions.\n",
        "\n",
        "e.  Ideal for Structured Records :\n",
        "\n",
        ". When handling structured data (like a person's profile or configuration settings), dictionaries provide a natural way to store and retrieve information.\n",
        "\n",
        "12. Describe a scenario where using a tuple would be preferable over a list?\n",
        "-> Scenario: Using a Tuple Instead of a List :-\n",
        "\n",
        "A tuple is preferable over a list when you want to store a fixed collection of items that should not change.\n",
        "\n",
        "Example Scenario: Storing GPS Coordinates:-\n",
        "\n",
        "Suppose you're building a map application, and you need to store latitude and longitude as a pair.\n",
        "\n",
        "location = (40.7128, -74.0060)  # New Delhi\n",
        "\n",
        "13. How do sets handle duplicate values in Python?\n",
        "-> . In Python, sets automatically remove duplicate values. A set is an unordered collection of unique elements, so if you add duplicates, only one instance will be stored.\n",
        "\n",
        ". Sets in Python automatically eliminate duplicates. When you add repeated values, only one copy is kept, making sets ideal for storing unique data.\n",
        "\n",
        "14. How does the “in” keyword work differently for lists and dictionaries?\n",
        "-> The {in} keyword is used to check if a value exists within a collection, but its behavior differs depending on the data type:\n",
        "\n",
        "a. {in} with Lists:\n",
        "\n",
        ". Checks if a value exists in the list.\n",
        "\n",
        ". It searches all elements one by one (linear search).\n",
        "\n",
        "fruits = ['apple', 'banana', 'cherry']\n",
        "\n",
        "print('apple' in fruits)      # ✅ True\n",
        "\n",
        "print('orange' in fruits)     # ❌ False\n",
        "\n",
        "b. {in} with Dictionaries (dict) :\n",
        "\n",
        ". Checks if a key exists in the dictionary, not the value.\n",
        "\n",
        ". Uses a hash-based lookup, so it's much faster than with lists.\n",
        "\n",
        "person = {'name': 'Alice', 'age': 30}\n",
        "\n",
        "print('name' in person)       # ✅ True (checks keys)\n",
        "\n",
        "print('Alice' in person)      # ❌ False (Value. not key)\n",
        "\n",
        "15. Can you modify the elements of a tuple? Explain why or why not.\n",
        "->  No, We Cannot Modify the Elements of a Tuple in Python.\n",
        "\n",
        "Tuples in Python are immutable, which means once they are created, their elements cannot be changed, added, or removed.\n",
        "\n",
        "16. What is a nested dictionary, and give an example of its use case?\n",
        "-> A nested dictionary is a dictionary where some values are themselves dictionaries. This allows you to organize data in a hierarchical or structured format, similar to records in a database or JSON objects.\n",
        "\n",
        "Example :\n",
        "students = {\n",
        "    \"101\": {\"name\": \"Alice\", \"age\": 20, \"grade\": \"A\"},\n",
        "    \"102\": {\"name\": \"Bob\", \"age\": 22, \"grade\": \"B\"},\n",
        "    \"103\": {\"name\": \"Charlie\", \"age\": 21, \"grade\": \"A\"}\n",
        "}\n",
        "\n",
        "\n",
        "17. Describe the time complexity of accessing elements in a dictionary?\n",
        "-> In Python, dictionaries are implemented using hash tables, which enable very fast access to elements based on their keys.\n",
        "\n",
        "a. Average Case: O(1) — Constant Time\n",
        "\n",
        ". Accessing a value by its key (e.g., my_dict[key]) takes constant time on average.\n",
        "\n",
        ". This means no matter how big the dictionary is, looking up a key typically takes roughly the same amount of time.\n",
        "\n",
        "b. Worst Case: O(n) — Linear Time\n",
        "\n",
        ". In rare cases, many keys may hash to the same index (called a collision).\n",
        "\n",
        ". Python handles collisions internally (e.g., by probing or chaining).\n",
        "\n",
        ". If many collisions occur, the lookup time can degrade to O(n), where n is the number of items.\n",
        "\n",
        ". However, Python's hash table design makes collisions very uncommon in practice.\n",
        "\n",
        "18. In what situations are lists preferred over dictionaries?\n",
        "-> While dictionaries are great for key-value lookups, lists are preferred in situations where We need to work with ordered collections or sequential data. Here are the main scenarios:\n",
        "\n",
        "a. When Order Matters :\n",
        "\n",
        ". Lists maintain the order of elements.\n",
        "\n",
        ". Ideal for sequenced data like steps in a process or ordered records.\n",
        "\n",
        "b. When We Don't Need Key-Value Pairs :\n",
        "\n",
        ". Lists are simpler when you only care about values, not named keys.\n",
        "\n",
        "c. When Data Is Indexed by Position :\n",
        "\n",
        ". Lists are great when you need to access data by its position/index.\n",
        "\n",
        "d.  When We Need to Iterate in Order :\n",
        "\n",
        ". Lists support easy and efficient looping in order.\n",
        "\n",
        "e. For Stack or Queue Implementations :\n",
        "\n",
        "Lists can act as stacks (LIFO) or queues (FIFO) using append(), pop(), or pop(0).\n",
        "\n",
        "f. When We Need to Store Duplicate Values :\n",
        "\n",
        "Lists allow duplicates, unlike sets and dictionary keys.\n",
        "\n",
        "19. Why are dictionaries considered unordered, and how does that affect data retrieval?\n",
        "-> Historically, dictionaries in Python were considered unordered because they didn't maintain the insertion order of key-value pairs. However, this has changed in recent versions of Python.\n",
        "\n",
        "| Feature           | Description                                                         |\n",
        "| ----------------- | ------------------------------------------------------------------- |\n",
        "| Key Lookup        | Still **very fast** (O(1) average time)                             |\n",
        "| Positional Access | Not supported (`d[0]` raises error)                                 |\n",
        "| Ordered Iteration | Now possible in Python 3.7+ (looping will follow insertion order)   |\n",
        "| Use for Sequences | Still **not recommended** if you care only about order without keys |\n",
        "\n",
        "20. Explain the difference between a list and a dictionary in terms of data retrieval.\n",
        "-> Lists and dictionaries are both used to store collections of data in Python, but they differ significantly in how data is retrieved.\n",
        "\n",
        "(i) List: Positional (Index-Based) Retrieval\n",
        "\n",
        ". Data is accessed by index (position).\n",
        "\n",
        ". Indexes are integers starting from 0.\n",
        "\n",
        ". Slower lookups if you're searching for a value, as it requires scanning the list (O(n) time).\n",
        "\n",
        "(ii) Dictionary: Key-Based Retrieval\n",
        "\n",
        ". Data is accessed using unique keys (like strings or numbers).\n",
        "\n",
        ". Uses a hash table internally for fast key lookup (O(1) average time).\n",
        "\n"
      ],
      "metadata": {
        "id": "caKJLlqKvOUc"
      }
    },
    {
      "cell_type": "markdown",
      "source": [
        "#Data Structure Practical Questions and Answers"
      ],
      "metadata": {
        "id": "sMkb2Vts8lx_"
      }
    },
    {
      "cell_type": "code",
      "source": [
        "# Write a code to create a string with your name and print it.\n",
        "\n",
        "my_name = \"Md Monazir\"\n",
        "\n",
        "print(\"My name is\", my_name)\n"
      ],
      "metadata": {
        "colab": {
          "base_uri": "https://localhost:8080/"
        },
        "id": "Gf85quyF8xWb",
        "outputId": "dca6043f-ae06-493f-ab66-f4481b45a266"
      },
      "execution_count": 2,
      "outputs": [
        {
          "output_type": "stream",
          "name": "stdout",
          "text": [
            "My name is Md Monazir\n"
          ]
        }
      ]
    },
    {
      "cell_type": "code",
      "source": [
        "# Write a code to find the length of the string \"Hello World\".\n",
        "\n",
        "name = \"Hello World\"\n",
        "len(name)"
      ],
      "metadata": {
        "colab": {
          "base_uri": "https://localhost:8080/"
        },
        "id": "QEh0fwIk-HnK",
        "outputId": "b121ea91-8214-407c-8aa8-9ae194f1f7d0"
      },
      "execution_count": 6,
      "outputs": [
        {
          "output_type": "execute_result",
          "data": {
            "text/plain": [
              "11"
            ]
          },
          "metadata": {},
          "execution_count": 6
        }
      ]
    },
    {
      "cell_type": "code",
      "source": [
        "# Write a code to slice the first 3 characters from the string \"Python Programming\".\n",
        "\n",
        "name = \"python programme\"\n",
        "name[ :3]"
      ],
      "metadata": {
        "colab": {
          "base_uri": "https://localhost:8080/",
          "height": 35
        },
        "id": "VSCXIBze-r09",
        "outputId": "91979acb-4a3e-41b2-aad9-3a5a0fbcf8ec"
      },
      "execution_count": 10,
      "outputs": [
        {
          "output_type": "execute_result",
          "data": {
            "text/plain": [
              "'pyt'"
            ],
            "application/vnd.google.colaboratory.intrinsic+json": {
              "type": "string"
            }
          },
          "metadata": {},
          "execution_count": 10
        }
      ]
    },
    {
      "cell_type": "code",
      "source": [
        "# Write a code to convert the string \"hello\" to uppercase.\n",
        "\n",
        "name = \"hello\"\n",
        "name.upper()"
      ],
      "metadata": {
        "colab": {
          "base_uri": "https://localhost:8080/",
          "height": 35
        },
        "id": "6JG6bxnVAS_n",
        "outputId": "0323e338-59ca-4478-b0ff-5d2dabbb8994"
      },
      "execution_count": 14,
      "outputs": [
        {
          "output_type": "execute_result",
          "data": {
            "text/plain": [
              "'HELLO'"
            ],
            "application/vnd.google.colaboratory.intrinsic+json": {
              "type": "string"
            }
          },
          "metadata": {},
          "execution_count": 14
        }
      ]
    },
    {
      "cell_type": "code",
      "source": [
        "# Write a code to replace the word \"apple\" with \"orange\" in the string \"I like apple\".\n",
        "\n",
        "text = \"I Like apple\"\n",
        "text.replace(\"apple\" , \"orange\")"
      ],
      "metadata": {
        "colab": {
          "base_uri": "https://localhost:8080/",
          "height": 35
        },
        "id": "Nwdv4QeFBUwD",
        "outputId": "9e0fe8d5-b871-455d-93ac-31259270690d"
      },
      "execution_count": 15,
      "outputs": [
        {
          "output_type": "execute_result",
          "data": {
            "text/plain": [
              "'I Like orange'"
            ],
            "application/vnd.google.colaboratory.intrinsic+json": {
              "type": "string"
            }
          },
          "metadata": {},
          "execution_count": 15
        }
      ]
    },
    {
      "cell_type": "code",
      "source": [
        "# Write a code to create a list with numbers 1 to 5 and print it.\n",
        "\n",
        "numbers = [1, 2, 3, 4, 5]\n",
        "print(numbers)"
      ],
      "metadata": {
        "colab": {
          "base_uri": "https://localhost:8080/"
        },
        "id": "SeIW2zX0Cp41",
        "outputId": "bcdafcd0-9645-4459-9581-55677943c616"
      },
      "execution_count": 18,
      "outputs": [
        {
          "output_type": "stream",
          "name": "stdout",
          "text": [
            "[1, 2, 3, 4, 5]\n"
          ]
        }
      ]
    },
    {
      "cell_type": "code",
      "source": [
        "# Write a code to append the number 10 to the list [1, 2, 3, 4].\n",
        "\n",
        "num_list = [1, 2, 3, 4]\n",
        "num_list.append(10)\n",
        "num_list"
      ],
      "metadata": {
        "colab": {
          "base_uri": "https://localhost:8080/"
        },
        "id": "Xis945iwDzR3",
        "outputId": "18eff0db-cc36-41da-ad7a-827124fc9cf7"
      },
      "execution_count": 5,
      "outputs": [
        {
          "output_type": "execute_result",
          "data": {
            "text/plain": [
              "[1, 2, 3, 4, 10]"
            ]
          },
          "metadata": {},
          "execution_count": 5
        }
      ]
    },
    {
      "cell_type": "code",
      "source": [
        "# Write a code to remove the number 3 from the list [1, 2, 3, 4, 5].\n",
        "\n",
        "num_list = [1, 2, 3, 4, 5]\n",
        "num_list.remove(3)\n",
        "num_list"
      ],
      "metadata": {
        "colab": {
          "base_uri": "https://localhost:8080/"
        },
        "id": "fBv8EzTCOo3M",
        "outputId": "650a784d-d19d-4e2a-bf58-7e5db307476d"
      },
      "execution_count": 16,
      "outputs": [
        {
          "output_type": "execute_result",
          "data": {
            "text/plain": [
              "[1, 2, 4, 5]"
            ]
          },
          "metadata": {},
          "execution_count": 16
        }
      ]
    },
    {
      "cell_type": "code",
      "source": [
        "# Write a code to access the second element in the list ['a', 'b', 'c', 'd'].\n",
        "\n",
        "letters = ['a', 'b', 'c', 'd']\n",
        "second_element = letters[1]\n",
        "print(\" The second element is:\" , second_element)"
      ],
      "metadata": {
        "colab": {
          "base_uri": "https://localhost:8080/"
        },
        "id": "3QBHjQdwPUFZ",
        "outputId": "7866d64a-df4a-41de-ae40-a1f1641433ea"
      },
      "execution_count": 18,
      "outputs": [
        {
          "output_type": "stream",
          "name": "stdout",
          "text": [
            " The second element is: b\n"
          ]
        }
      ]
    },
    {
      "cell_type": "code",
      "source": [
        "# Write a code to access the second element in the list ['a', 'b', 'c', 'd'].\n",
        "\n",
        "letters = ['a', 'b', 'c', 'd']\n",
        "letters[1]"
      ],
      "metadata": {
        "colab": {
          "base_uri": "https://localhost:8080/",
          "height": 35
        },
        "id": "q9r2dR6FRNCc",
        "outputId": "6ef63c2d-89f0-46ba-be85-a992d280e84b"
      },
      "execution_count": 19,
      "outputs": [
        {
          "output_type": "execute_result",
          "data": {
            "text/plain": [
              "'b'"
            ],
            "application/vnd.google.colaboratory.intrinsic+json": {
              "type": "string"
            }
          },
          "metadata": {},
          "execution_count": 19
        }
      ]
    },
    {
      "cell_type": "code",
      "source": [
        "# Write a code to reverse the list [10, 20, 30, 40, 50].\n",
        "\n",
        "numbers = [10, 20, 30, 40, 50]\n",
        "reverse_list = numbers[ ::-1]\n",
        "print(\"Reverse_list:\" , reverse_list)\n"
      ],
      "metadata": {
        "colab": {
          "base_uri": "https://localhost:8080/"
        },
        "id": "xC_uIJFxReM_",
        "outputId": "a36cf79e-f1a5-45f7-f971-31b0b8ff03d3"
      },
      "execution_count": 22,
      "outputs": [
        {
          "output_type": "stream",
          "name": "stdout",
          "text": [
            "Reverse_list: [50, 40, 30, 20, 10]\n"
          ]
        }
      ]
    },
    {
      "cell_type": "code",
      "source": [
        "# Write a code to create a tuple with the elements 100, 200, 300 and print it.\n",
        "\n",
        "my_tuple = (100, 200, 300)\n",
        "print(\"The tuple is:\" , my_tuple)"
      ],
      "metadata": {
        "colab": {
          "base_uri": "https://localhost:8080/"
        },
        "id": "JCf301QbRm5N",
        "outputId": "56dabb74-56e3-4e34-dd52-70f86dc0f654"
      },
      "execution_count": 23,
      "outputs": [
        {
          "output_type": "stream",
          "name": "stdout",
          "text": [
            "The tuple is: (100, 200, 300)\n"
          ]
        }
      ]
    },
    {
      "cell_type": "code",
      "source": [
        "# Write a code to access the second-to-last element of the tuple ('red', 'green', 'blue', 'yellow').\n",
        "\n",
        "colors = ('red', 'green', 'blue', 'yellow')\n",
        "second_to_last = colors[-2]\n",
        "print(\"second to last element:\" , second_to_last)"
      ],
      "metadata": {
        "colab": {
          "base_uri": "https://localhost:8080/"
        },
        "id": "gADHAWB1TedC",
        "outputId": "73371f45-570a-4320-ad27-2089e40e2780"
      },
      "execution_count": 26,
      "outputs": [
        {
          "output_type": "stream",
          "name": "stdout",
          "text": [
            "second to last element: blue\n"
          ]
        }
      ]
    },
    {
      "cell_type": "code",
      "source": [
        "# Write a code to find the minimum number in the tuple (10, 20, 5, 15).\n",
        "\n",
        "numbers = (10, 20, 5, 15)\n",
        "min_number = min(numbers)\n",
        "print(\"Minimum number:\" , min_number)\n",
        "\n"
      ],
      "metadata": {
        "colab": {
          "base_uri": "https://localhost:8080/"
        },
        "id": "08fTv586U-Kj",
        "outputId": "58732ea9-7735-4029-dcd7-070fa1f82015"
      },
      "execution_count": 30,
      "outputs": [
        {
          "output_type": "stream",
          "name": "stdout",
          "text": [
            "Minimum number: 5\n"
          ]
        }
      ]
    },
    {
      "cell_type": "code",
      "source": [
        "#  Write a code to find the index of the element \"cat\" in the tuple ('dog', 'cat', 'rabbit').\n",
        "\n",
        "word = ('dog', 'cat', 'rabbit')\n",
        "word[1]"
      ],
      "metadata": {
        "colab": {
          "base_uri": "https://localhost:8080/",
          "height": 35
        },
        "id": "_VX3xJryXQHx",
        "outputId": "d4e7bc70-11b5-4307-f260-2c2d88c94f4a"
      },
      "execution_count": 32,
      "outputs": [
        {
          "output_type": "execute_result",
          "data": {
            "text/plain": [
              "'cat'"
            ],
            "application/vnd.google.colaboratory.intrinsic+json": {
              "type": "string"
            }
          },
          "metadata": {},
          "execution_count": 32
        }
      ]
    },
    {
      "cell_type": "code",
      "source": [
        "# or Write a code to find the index of the element \"cat\" in the tuple ('dog', 'cat', 'rabbit').\n",
        "\n",
        "animals = ('dog', 'cat', 'rabbit')\n",
        "index_of_cat = animals.index('cat')\n",
        "print(\"Index of 'cat':\" , index_of_cat)"
      ],
      "metadata": {
        "colab": {
          "base_uri": "https://localhost:8080/"
        },
        "id": "XtM3Jv28YHMG",
        "outputId": "8afe086f-5ee7-4e77-a721-50db6db17ffe"
      },
      "execution_count": 35,
      "outputs": [
        {
          "output_type": "stream",
          "name": "stdout",
          "text": [
            "Index of 'cat': 1\n"
          ]
        }
      ]
    },
    {
      "cell_type": "code",
      "source": [
        "# Write a code to create a tuple containing three different fruits and check if \"kiwi\" is in it.\n",
        "\n",
        "fruits = ('apple', 'orange', 'banana')\n",
        "\n",
        "is_kiwi_present = 'kiwi' in fruits\n",
        "\n",
        "print(\"Is 'kiwi' in the tuple?\" , is_kiwi_present)\n"
      ],
      "metadata": {
        "colab": {
          "base_uri": "https://localhost:8080/"
        },
        "id": "b4Tid1ztZphK",
        "outputId": "fa58e3c7-9c8c-44f8-808a-8924215c09fb"
      },
      "execution_count": 1,
      "outputs": [
        {
          "output_type": "stream",
          "name": "stdout",
          "text": [
            "Is 'kiwi' in the tuple? False\n"
          ]
        }
      ]
    },
    {
      "cell_type": "code",
      "source": [
        "# Write a code to create a set with the elements 'a', 'b', 'c' and print it.\n",
        "\n",
        "my_set = {'a', 'b', 'c'}\n",
        "\n",
        "print(\"The set is:\" , my_set)"
      ],
      "metadata": {
        "colab": {
          "base_uri": "https://localhost:8080/"
        },
        "id": "_TEaE6PzbXFn",
        "outputId": "fb0e4721-84c3-44a3-b600-6f7772677935"
      },
      "execution_count": 2,
      "outputs": [
        {
          "output_type": "stream",
          "name": "stdout",
          "text": [
            "The set is: {'a', 'b', 'c'}\n"
          ]
        }
      ]
    },
    {
      "cell_type": "code",
      "source": [
        "# Write a code to clear all elements from the set {1, 2, 3, 4, 5}.\n",
        "\n",
        "my_set = {1, 2, 3, 4, 5}\n",
        "my_set.clear()\n",
        "my_set"
      ],
      "metadata": {
        "colab": {
          "base_uri": "https://localhost:8080/"
        },
        "id": "0cID_29Pb_KC",
        "outputId": "12f2656e-94bf-450d-e627-ada137f8fe49"
      },
      "execution_count": 4,
      "outputs": [
        {
          "output_type": "execute_result",
          "data": {
            "text/plain": [
              "set()"
            ]
          },
          "metadata": {},
          "execution_count": 4
        }
      ]
    },
    {
      "cell_type": "code",
      "source": [
        "# Write a code to remove the element 4 from the set {1, 2, 3, 4}.\n",
        "\n",
        "my_set = {1, 2, 3, 4}\n",
        "\n",
        "my_set.remove(4)\n",
        "\n",
        "my_set"
      ],
      "metadata": {
        "colab": {
          "base_uri": "https://localhost:8080/"
        },
        "id": "U6T9UKMvcTlm",
        "outputId": "17204f27-50cb-4c69-ef0a-cf1277f83031"
      },
      "execution_count": 6,
      "outputs": [
        {
          "output_type": "execute_result",
          "data": {
            "text/plain": [
              "{1, 2, 3}"
            ]
          },
          "metadata": {},
          "execution_count": 6
        }
      ]
    },
    {
      "cell_type": "code",
      "source": [
        "#  Write a code to find the union of two sets {1, 2, 3} and {3, 4, 5}.\n",
        "\n",
        "set1 = {1, 2, 3}\n",
        "set2 = {3, 4, 5}\n",
        "\n",
        "Union_set = set1 | set2\n",
        "\n",
        "Union_set"
      ],
      "metadata": {
        "colab": {
          "base_uri": "https://localhost:8080/"
        },
        "id": "RKcEOvJfcro5",
        "outputId": "c25c9e79-330d-4fb4-eef2-26527d2f490e"
      },
      "execution_count": 11,
      "outputs": [
        {
          "output_type": "execute_result",
          "data": {
            "text/plain": [
              "{1, 2, 3, 4, 5}"
            ]
          },
          "metadata": {},
          "execution_count": 11
        }
      ]
    },
    {
      "cell_type": "code",
      "source": [
        "# or Write a code to find the union of two sets {1, 2, 3} and {3, 4, 5}.\n",
        "\n",
        "set1 = {1, 2, 3}\n",
        "set2 = {3, 4, 5}\n",
        "\n",
        "Union_set = set1.union(set2)\n",
        "\n",
        "print(\"Union of the sets:\" , Union_set)"
      ],
      "metadata": {
        "colab": {
          "base_uri": "https://localhost:8080/"
        },
        "id": "4YAGG3dgdXi2",
        "outputId": "90d65cae-de5b-4e58-a1db-9317725e328f"
      },
      "execution_count": 13,
      "outputs": [
        {
          "output_type": "stream",
          "name": "stdout",
          "text": [
            "Union of the sets: {1, 2, 3, 4, 5}\n"
          ]
        }
      ]
    },
    {
      "cell_type": "code",
      "source": [
        "# Write a code to find the intersection of two sets {1, 2, 3} and {2, 3, 4}.\n",
        "\n",
        "set1 = {1, 2, 3}\n",
        "set2 = {2, 3, 4}\n",
        "\n",
        "intersection_set = set1 & set2\n",
        "\n",
        "intersection_set\n"
      ],
      "metadata": {
        "colab": {
          "base_uri": "https://localhost:8080/"
        },
        "id": "lm31XBUGd-s4",
        "outputId": "0231afe0-86ae-44fe-da32-985092d3b45b"
      },
      "execution_count": 14,
      "outputs": [
        {
          "output_type": "execute_result",
          "data": {
            "text/plain": [
              "{2, 3}"
            ]
          },
          "metadata": {},
          "execution_count": 14
        }
      ]
    },
    {
      "cell_type": "code",
      "source": [
        "# or\n",
        "\n",
        "set1 = {1, 2, 3}\n",
        "set2 = {2, 3, 4}\n",
        "\n",
        "intersection_set = set1.intersection(set2)\n",
        "\n",
        "print(\"Intersection of the sets:\" , intersection_set)"
      ],
      "metadata": {
        "colab": {
          "base_uri": "https://localhost:8080/"
        },
        "id": "07c94UO-ewSY",
        "outputId": "e4324d18-061d-4f7d-b0e9-a6bacd143dc4"
      },
      "execution_count": 15,
      "outputs": [
        {
          "output_type": "stream",
          "name": "stdout",
          "text": [
            "Intersection of the sets: {2, 3}\n"
          ]
        }
      ]
    },
    {
      "cell_type": "code",
      "source": [
        "# Write a code to create a dictionary with the keys \"name\", \"age\", and \"city\", and print it.\n",
        "\n",
        "\n",
        "person = {\"name\": \"Md Monazir\", \"age\": 27, \"city\": \"Bengaluru\"}\n",
        "\n",
        "print(\"Dictionary:\", person)\n"
      ],
      "metadata": {
        "colab": {
          "base_uri": "https://localhost:8080/"
        },
        "id": "uBK2Cx7ofGP_",
        "outputId": "4b4d7ae8-bca6-4ab3-f28a-4f8e84ae3ac9"
      },
      "execution_count": 24,
      "outputs": [
        {
          "output_type": "stream",
          "name": "stdout",
          "text": [
            "Dictionary: {'name': 'Md Monazir', 'age': 27, 'city': 'Bengaluru'}\n"
          ]
        }
      ]
    },
    {
      "cell_type": "code",
      "source": [
        "person = {\"name\": \"Md Monazir\" , \"age\": 27 , \"city\": \"Bengaluru\"}\n",
        "\n",
        "print(\"Dictionary:\", person)"
      ],
      "metadata": {
        "colab": {
          "base_uri": "https://localhost:8080/"
        },
        "id": "PEPFrq2mgktL",
        "outputId": "586ca994-10aa-4d02-aa25-eb4823c7d60c"
      },
      "execution_count": 9,
      "outputs": [
        {
          "output_type": "stream",
          "name": "stdout",
          "text": [
            "Dictionary: {'name': 'Md Monazir', 'age': 27, 'city': 'Bengaluru'}\n"
          ]
        }
      ]
    },
    {
      "cell_type": "code",
      "source": [
        "# Write a code to add a new key-value pair \"country\": \"USA\" to the dictionary {'name': 'John', 'age': 25}.\n",
        "\n",
        "person = {'name': 'John', 'age': 25}\n",
        "\n",
        "person['country'] = 'USA'\n",
        "\n",
        "print(\"Updated Dictionary:\" , person)\n",
        "\n",
        "\n"
      ],
      "metadata": {
        "colab": {
          "base_uri": "https://localhost:8080/"
        },
        "id": "gZ5oCDswLba-",
        "outputId": "d2abfbac-9e95-4049-e22e-144df2ef90fd"
      },
      "execution_count": 8,
      "outputs": [
        {
          "output_type": "stream",
          "name": "stdout",
          "text": [
            "Updated Dictionary: {'name': 'John', 'age': 25, 'country': 'USA'}\n"
          ]
        }
      ]
    },
    {
      "cell_type": "code",
      "source": [
        "# Write a code to access the value associated with the key \"name\" in the dictionary {'name': 'Alice', 'age': 30}.\n",
        "\n",
        "person = {'name': 'Alice', 'age': 30}\n",
        "\n",
        "name_value = person.get('name')\n",
        "\n",
        "name_value"
      ],
      "metadata": {
        "colab": {
          "base_uri": "https://localhost:8080/",
          "height": 35
        },
        "id": "quLnBAtDNzEx",
        "outputId": "618d73a5-8572-4a9f-d0bb-4e2f9a5889ad"
      },
      "execution_count": 14,
      "outputs": [
        {
          "output_type": "execute_result",
          "data": {
            "text/plain": [
              "'Alice'"
            ],
            "application/vnd.google.colaboratory.intrinsic+json": {
              "type": "string"
            }
          },
          "metadata": {},
          "execution_count": 14
        }
      ]
    },
    {
      "cell_type": "code",
      "source": [
        "# Write a code to remove the key \"age\" from the dictionary {'name': 'Bob', 'age': 22, 'city': 'New York'}.\n",
        "\n",
        "person = {'name': 'Bob', 'age': 22, 'city': 'New York'}\n",
        "\n",
        "person.pop('age')\n",
        "\n",
        "print(\"Updated dictionary:\", person)\n",
        "\n"
      ],
      "metadata": {
        "colab": {
          "base_uri": "https://localhost:8080/"
        },
        "id": "xVQ43TmFfeks",
        "outputId": "405fd4d6-0508-4b8e-d4f4-3f5411e25b18"
      },
      "execution_count": 23,
      "outputs": [
        {
          "output_type": "stream",
          "name": "stdout",
          "text": [
            "Updated dictionary: {'name': 'Bob', 'city': 'New York'}\n"
          ]
        }
      ]
    },
    {
      "cell_type": "code",
      "source": [
        "# Write a code to check if the key \"city\" exists in the dictionary {'name': 'Alice', 'city': 'Paris'}.\n",
        "\n",
        "person = {'name': 'Alice', 'city': 'Paris'}\n",
        "\n",
        "if 'city' in person:\n",
        "    print(\"The key 'city' exists in the dictionary.\")\n",
        "else:\n",
        "    print(\"The key 'city' does not exist in the dictionary.\")\n"
      ],
      "metadata": {
        "colab": {
          "base_uri": "https://localhost:8080/"
        },
        "id": "n9I6vEgPg91a",
        "outputId": "805951cd-d4c5-4fff-868b-44a638f3bc0f"
      },
      "execution_count": 25,
      "outputs": [
        {
          "output_type": "stream",
          "name": "stdout",
          "text": [
            "The key 'city' exists in the dictionary.\n"
          ]
        }
      ]
    },
    {
      "cell_type": "code",
      "source": [
        "# Write a code to create a list, a tuple, and a dictionary, and print them all.\n",
        "\n",
        "my_list = [1, 2, 3, 4, 5]\n",
        "\n",
        "my_tuple = ('apple', 'banana', 'cherry')\n",
        "\n",
        "my_dict = {'name': 'Alice', 'age': 30, 'city': 'Paris'}\n",
        "\n",
        "print(\"List:\", my_list)\n",
        "print(\"Tuple:\", my_tuple)\n",
        "print(\"Dictionary:\", my_dict)\n"
      ],
      "metadata": {
        "colab": {
          "base_uri": "https://localhost:8080/"
        },
        "id": "gUrdrbP1hqbL",
        "outputId": "341166eb-db19-4b5a-dbd4-dceebfd6ea87"
      },
      "execution_count": 26,
      "outputs": [
        {
          "output_type": "stream",
          "name": "stdout",
          "text": [
            "List: [1, 2, 3, 4, 5]\n",
            "Tuple: ('apple', 'banana', 'cherry')\n",
            "Dictionary: {'name': 'Alice', 'age': 30, 'city': 'Paris'}\n"
          ]
        }
      ]
    },
    {
      "cell_type": "code",
      "source": [
        "# Write a code to create a list of 5 random numbers between 1 and 100, sort it in ascending order, and print the result.\n",
        "\n",
        "\n",
        "random_numbers = random.sample(range(1, 101), 5)\n",
        "\n",
        "random_numbers.sort()\n",
        "\n",
        "print(\"Sorted random numbers:\", random_numbers)\n",
        "\n"
      ],
      "metadata": {
        "colab": {
          "base_uri": "https://localhost:8080/"
        },
        "id": "3L5fS6-JiM2k",
        "outputId": "c6ddc0ae-a9e8-4b39-d93a-b527a32076c1"
      },
      "execution_count": 38,
      "outputs": [
        {
          "output_type": "stream",
          "name": "stdout",
          "text": [
            "Sorted random numbers: [13, 19, 33, 76, 96]\n"
          ]
        }
      ]
    },
    {
      "cell_type": "code",
      "source": [
        "# Write a code to create a list with strings and print the element at the third index.\n",
        "\n",
        "words = [\"apple\", \"banana\", \"cherry\", \"date\", \"elderberry\"]\n",
        "\n",
        "print(\"Element at the third index :\" , words[3])"
      ],
      "metadata": {
        "colab": {
          "base_uri": "https://localhost:8080/"
        },
        "id": "ErQb5Y1xjHjP",
        "outputId": "0b1be3a6-11f9-470b-eb55-aa369d0cf674"
      },
      "execution_count": 40,
      "outputs": [
        {
          "output_type": "stream",
          "name": "stdout",
          "text": [
            "Element at the third index : date\n"
          ]
        }
      ]
    },
    {
      "cell_type": "code",
      "source": [
        "#  Write a code to combine two dictionaries into one and print the result.\n",
        "\n",
        "dict1 = {'name': 'Alice', 'age': 30}\n",
        "dict2 = {'city': 'Paris', 'country': 'France'}\n",
        "\n",
        "combined_dict = dict1 | dict2   # combine means union means or ( symbol : |)\n",
        "\n",
        "combined_dict"
      ],
      "metadata": {
        "colab": {
          "base_uri": "https://localhost:8080/"
        },
        "id": "7YR5QrHgkKZH",
        "outputId": "2f8d39ea-d605-4743-8560-292e1f7cdfa5"
      },
      "execution_count": 45,
      "outputs": [
        {
          "output_type": "execute_result",
          "data": {
            "text/plain": [
              "{'name': 'Alice', 'age': 30, 'city': 'Paris', 'country': 'France'}"
            ]
          },
          "metadata": {},
          "execution_count": 45
        }
      ]
    },
    {
      "cell_type": "code",
      "source": [
        "# Write a code to convert a list of strings into a set.\n",
        "\n",
        "string_list = [\"apple\", \"banana\", \"cherry\", \"apple\", \"banana\"]\n",
        "\n",
        "string_set = set(string_list)\n",
        "\n",
        "print(\"Set of strings:\", string_set)\n"
      ],
      "metadata": {
        "colab": {
          "base_uri": "https://localhost:8080/"
        },
        "id": "qsLnAIHglRTl",
        "outputId": "ef744c9c-6d97-4015-89a2-e209e8891d96"
      },
      "execution_count": 46,
      "outputs": [
        {
          "output_type": "stream",
          "name": "stdout",
          "text": [
            "Set of strings: {'cherry', 'banana', 'apple'}\n"
          ]
        }
      ]
    }
  ]
}